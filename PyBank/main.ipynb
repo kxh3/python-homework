{
 "cells": [
  {
   "cell_type": "code",
   "execution_count": 1,
   "id": "ce8de05f-78a9-4e29-82b8-ffa304cfbd89",
   "metadata": {},
   "outputs": [],
   "source": [
    "import csv\n",
    "from pathlib import Path"
   ]
  },
  {
   "cell_type": "code",
   "execution_count": 2,
   "id": "eb033e99-2d10-474d-acf1-e43ce0a33eda",
   "metadata": {},
   "outputs": [],
   "source": [
    "csvpath = Path(\"..\\..\\Resources\\budget_data.csv\")"
   ]
  },
  {
   "cell_type": "code",
   "execution_count": 3,
   "id": "30bb2024-e236-4823-b982-3c4e157ba680",
   "metadata": {},
   "outputs": [],
   "source": [
    "month_sum = 0\n",
    "total_months = []\n",
    "net_total = []\n",
    "total_change = []\n",
    "changer_per_month = []"
   ]
  },
  {
   "cell_type": "code",
   "execution_count": 4,
   "id": "798e6f4d-65a7-4de7-895a-95099f958c14",
   "metadata": {},
   "outputs": [
    {
     "ename": "SyntaxError",
     "evalue": "unexpected EOF while parsing (Temp/ipykernel_16300/3832607477.py, line 17)",
     "output_type": "error",
     "traceback": [
      "\u001b[1;36m  File \u001b[1;32m\"C:\\Users\\krist\\AppData\\Local\\Temp/ipykernel_16300/3832607477.py\"\u001b[1;36m, line \u001b[1;32m17\u001b[0m\n\u001b[1;33m    \u001b[0m\n\u001b[1;37m    ^\u001b[0m\n\u001b[1;31mSyntaxError\u001b[0m\u001b[1;31m:\u001b[0m unexpected EOF while parsing\n"
     ]
    }
   ],
   "source": [
    "with open(csvpath) as csvfile:\n",
    "    csvreader = csv.reader(csvfile, delimiter = \",\")\n",
    "    skip_header = next(csvreader)\n",
    "    \n",
    "    for row in csvreader:\n",
    "        if month_sum == 0:\n",
    "            month_sum += 1\n",
    "            profit_losses = int(row[1])\n",
    "            net_total.append(profit_losses)\n",
    "            date = str(row[0])\n",
    "            total_months.append(date)\n",
    "        elif month_sum != 0:\n",
    "            total_months.append(date)\n",
    "            net_total.append(profit_losses)\n",
    "            total_change.append(int(int(row[1] - profit_losses)\n",
    "            \n",
    "                                    \n",
    "                                    "
   ]
  }
 ],
 "metadata": {
  "kernelspec": {
   "display_name": "Python 3 (ipykernel)",
   "language": "python",
   "name": "python3"
  },
  "language_info": {
   "codemirror_mode": {
    "name": "ipython",
    "version": 3
   },
   "file_extension": ".py",
   "mimetype": "text/x-python",
   "name": "python",
   "nbconvert_exporter": "python",
   "pygments_lexer": "ipython3",
   "version": "3.9.7"
  }
 },
 "nbformat": 4,
 "nbformat_minor": 5
}
