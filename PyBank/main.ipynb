{
 "cells": [
  {
   "cell_type": "code",
   "execution_count": 1,
   "id": "46dc00d3-e791-4753-a165-dcd64f2c6078",
   "metadata": {},
   "outputs": [
    {
     "ename": "ZeroDivisionError",
     "evalue": "division by zero",
     "output_type": "error",
     "traceback": [
      "\u001b[1;31m---------------------------------------------------------------------------\u001b[0m",
      "\u001b[1;31mZeroDivisionError\u001b[0m                         Traceback (most recent call last)",
      "\u001b[1;32m~\\AppData\\Local\\Temp/ipykernel_7784/4279853757.py\u001b[0m in \u001b[0;36m<module>\u001b[1;34m\u001b[0m\n\u001b[0;32m     23\u001b[0m         \u001b[0mtotal_change\u001b[0m\u001b[1;33m.\u001b[0m\u001b[0mappend\u001b[0m\u001b[1;33m(\u001b[0m\u001b[0mnet_total\u001b[0m\u001b[1;33m[\u001b[0m\u001b[0mprofits\u001b[0m\u001b[1;33m+\u001b[0m\u001b[1;36m1\u001b[0m\u001b[1;33m]\u001b[0m\u001b[1;33m-\u001b[0m\u001b[0mnet_total\u001b[0m\u001b[1;33m[\u001b[0m\u001b[0mprofits\u001b[0m\u001b[1;33m]\u001b[0m\u001b[1;33m)\u001b[0m\u001b[1;33m\u001b[0m\u001b[1;33m\u001b[0m\u001b[0m\n\u001b[0;32m     24\u001b[0m \u001b[1;33m\u001b[0m\u001b[0m\n\u001b[1;32m---> 25\u001b[1;33m     \u001b[0maverage_change\u001b[0m \u001b[1;33m=\u001b[0m \u001b[0msum\u001b[0m\u001b[1;33m(\u001b[0m\u001b[0mtotal_change\u001b[0m\u001b[1;33m)\u001b[0m\u001b[1;33m/\u001b[0m\u001b[0mlen\u001b[0m\u001b[1;33m(\u001b[0m\u001b[0mtotal_change\u001b[0m\u001b[1;33m)\u001b[0m\u001b[1;33m\u001b[0m\u001b[1;33m\u001b[0m\u001b[0m\n\u001b[0m\u001b[0;32m     26\u001b[0m \u001b[1;33m\u001b[0m\u001b[0m\n\u001b[0;32m     27\u001b[0m     \u001b[0mchange_increase\u001b[0m \u001b[1;33m=\u001b[0m \u001b[0mmax\u001b[0m\u001b[1;33m(\u001b[0m\u001b[0mtotal_change\u001b[0m\u001b[1;33m)\u001b[0m\u001b[1;33m\u001b[0m\u001b[1;33m\u001b[0m\u001b[0m\n",
      "\u001b[1;31mZeroDivisionError\u001b[0m: division by zero"
     ]
    }
   ],
   "source": [
    "import csv\n",
    "from pathlib import Path\n",
    "\n",
    "csvpath = Path(r'C:\\Users\\krist\\Downloads\\budget_data.csv')\n",
    "\n",
    "\n",
    "total_months = []\n",
    "net_total = []\n",
    "total_change = []\n",
    "change_per_month = []\n",
    "\n",
    "with open(csvpath) as csvfile:\n",
    "    csvreader = csv.reader(csvfile, delimiter = \",\")\n",
    "    skip_header = next(csvreader)\n",
    "    \n",
    "    for row in csvreader:\n",
    "        month_count = row[0]\n",
    "        total_months.append(month_count)\n",
    "        profit_losses = int(row[1])\n",
    "        net_total.append(profit_losses)\n",
    "    \n",
    "    for profits in range(len(net_total)-1):\n",
    "        total_change.append(net_total[profits+1]-net_total[profits])\n",
    "    \n",
    "    average_change = sum(total_change)/len(total_change)\n",
    "    \n",
    "    change_increase = max(total_change)\n",
    "    increase_month = total_months[total_change.index(change_increase)]\n",
    "    \n",
    "    change_decrease = min(total_change)\n",
    "    decrease_month = total_months[total_change.index(change_decrease)]\n",
    "\n",
    "print('Financial Analysis')\n",
    "print('--------------------------')  \n",
    "print(f'Total Months: {len(total_months)}')\n",
    "print(f'Total: ${sum(net_total)}')\n",
    "print(f'Average Change: {round(average_change,2)}')\n",
    "print(f'Greatest Increase in Profits: {increase_month} (${(str(change_increase))})')\n",
    "print(f'Greatest Increase in Profits: {decrease_month} (${(str(change_decrease))})')\n",
    "\n",
    "\n",
    "with open(csvpath, 'w') as file:\n",
    "    file.write('Financial Analysis')\n",
    "    file.write('--------------------------')  \n",
    "    file.write(f'Total Months: {len(total_months)}')\n",
    "    file.write(f'Total: ${sum(net_total)}')\n",
    "    file.write(f'Average Change: {round(average_change,2)}')\n",
    "    file.write(f'Greatest Increase in Profits: {increase_month} (${(str(change_increase))})')\n",
    "    file.write(f'Greatest Increase in Profits: {decrease_month} (${(str(change_decrease))})')"
   ]
  },
  {
   "cell_type": "code",
   "execution_count": null,
   "id": "65dceac3-ce17-47a3-952e-32be8e99592d",
   "metadata": {},
   "outputs": [],
   "source": []
  }
 ],
 "metadata": {
  "kernelspec": {
   "display_name": "Python 3 (ipykernel)",
   "language": "python",
   "name": "python3"
  },
  "language_info": {
   "codemirror_mode": {
    "name": "ipython",
    "version": 3
   },
   "file_extension": ".py",
   "mimetype": "text/x-python",
   "name": "python",
   "nbconvert_exporter": "python",
   "pygments_lexer": "ipython3",
   "version": "3.9.7"
  }
 },
 "nbformat": 4,
 "nbformat_minor": 5
}
