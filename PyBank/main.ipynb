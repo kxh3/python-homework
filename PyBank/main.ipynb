{
 "cells": [
  {
   "cell_type": "code",
   "execution_count": 2,
   "id": "80e91a30-573e-4903-b574-d4f8c542e1d5",
   "metadata": {},
   "outputs": [],
   "source": [
    "import csv\n",
    "from pathlib import Path\n",
    "\n",
    "csvpath = Path(\"../PyBank/Resources/budget_data.csv\")"
   ]
  },
  {
   "cell_type": "code",
   "execution_count": 3,
   "id": "42b53478-8adf-41a1-9dd3-432e636a146a",
   "metadata": {},
   "outputs": [],
   "source": [
    "total_months = []\n",
    "net_total = []\n",
    "total_change = []\n",
    "change_per_month = []"
   ]
  },
  {
   "cell_type": "code",
   "execution_count": 4,
   "id": "a1fbb954-7c9f-4d17-b589-8d9868416394",
   "metadata": {},
   "outputs": [
    {
     "name": "stdout",
     "output_type": "stream",
     "text": [
      "[867884, 984655, 322013, -69417, 310503, 522857, 1033096, 604885, -216386, 477532, 893810, -80353, 779806, -335203, 697845, 793163, 485070, 584122, 62729, 668179, 899906, 834719, 132003, 309978, -755566, 1170593, 252788, 1151518, 817256, 570757, 506702, -1022534, 475062, 779976, 144175, 542494, 359333, 321469, 67780, 471435, 565603, 872480, 789480, 999942, -1196225, 268997, -687986, 1150461, 682458, 617856, 824098, 581943, 132864, 448062, 689161, 800701, 1166643, 947333, 578668, 988505, 1139715, 1029471, 687533, -524626, 158620, 87795, 423389, 840723, 568529, 332067, 989499, 778237, 650000, -1100387, -174946, 757143, 445709, 712961, -1163797, 569899, 768450, 102685, 795914, 60988, 138230, 671099]\n"
     ]
    }
   ],
   "source": [
    "with open(csvpath) as csvfile:\n",
    "    csvreader = csv.reader(csvfile, delimiter = \",\")\n",
    "    skip_header = next(csvreader)\n",
    "    \n",
    "    for row in csvreader:\n",
    "        month_count = row[0]\n",
    "        total_months.append(month_count)\n",
    "        profit_losses = int(row[1])\n",
    "        net_total.append(profit_losses)\n",
    "    print(net_total)"
   ]
  },
  {
   "cell_type": "code",
   "execution_count": 5,
   "id": "6d42753b-2e81-4f3d-abdc-4f7d98207426",
   "metadata": {},
   "outputs": [
    {
     "name": "stdout",
     "output_type": "stream",
     "text": [
      "[116771, -662642, -391430, 379920, 212354, 510239, -428211, -821271, 693918, 416278, -974163, 860159, -1115009, 1033048, 95318, -308093, 99052, -521393, 605450, 231727, -65187, -702716, 177975, -1065544, 1926159, -917805, 898730, -334262, -246499, -64055, -1529236, 1497596, 304914, -635801, 398319, -183161, -37864, -253689, 403655, 94168, 306877, -83000, 210462, -2196167, 1465222, -956983, 1838447, -468003, -64602, 206242, -242155, -449079, 315198, 241099, 111540, 365942, -219310, -368665, 409837, 151210, -110244, -341938, -1212159, 683246, -70825, 335594, 417334, -272194, -236462, 657432, -211262, -128237, -1750387, 925441, 932089, -311434, 267252, -1876758, 1733696, 198551, -665765, 693229, -734926, 77242, 532869]\n"
     ]
    }
   ],
   "source": [
    "    for profits in range(len(net_total)-1):\n",
    "        total_change.append(net_total[profits+1]-net_total[profits])\n",
    "    print(total_change)\n",
    "    "
   ]
  },
  {
   "cell_type": "code",
   "execution_count": 6,
   "id": "837e2209-0e50-49dd-a5ac-e5eccfaec81e",
   "metadata": {},
   "outputs": [],
   "source": [
    "    average_change = sum(total_change)/len(total_change)\n",
    "    "
   ]
  },
  {
   "cell_type": "code",
   "execution_count": 7,
   "id": "0d8b7a60-6ca9-48a0-bc3e-bfd1d68fcc32",
   "metadata": {},
   "outputs": [],
   "source": [
    "    change_increase = max(total_change)\n",
    "    increase_month = total_months[total_change.index(change_increase)]\n",
    "    \n",
    "    change_decrease = min(total_change)\n",
    "    decrease_month = total_months[total_change.index(change_decrease)]"
   ]
  },
  {
   "cell_type": "code",
   "execution_count": 8,
   "id": "91c82f57-b577-4201-9b70-438fbe5a225e",
   "metadata": {},
   "outputs": [
    {
     "name": "stdout",
     "output_type": "stream",
     "text": [
      "Financial Analysis\n",
      "--------------------------\n",
      "Total Months: 86\n",
      "Total: $38382578\n",
      "Average Change: -2315.12\n",
      "Greatest Increase in Profits: Jan-2012 ($1926159)\n",
      "Greatest Increase in Profits: Aug-2013 ($-2196167)\n"
     ]
    }
   ],
   "source": [
    "print('Financial Analysis')\n",
    "print('--------------------------')  \n",
    "print(f'Total Months: {len(total_months)}')\n",
    "print(f'Total: ${sum(net_total)}')\n",
    "print(f'Average Change: {round(average_change,2)}')\n",
    "print(f'Greatest Increase in Profits: {increase_month} (${(str(change_increase))})')\n",
    "print(f'Greatest Increase in Profits: {decrease_month} (${(str(change_decrease))})')"
   ]
  },
  {
   "cell_type": "code",
   "execution_count": 9,
   "id": "4bb1cc1f-ad3a-4328-ae33-90b8046ba2d9",
   "metadata": {},
   "outputs": [],
   "source": [
    "new_file = Path(\"../PyBank/Resources/Financial_Analysis.txt\")\n",
    "with open(new_file, 'w') as file:\n",
    "    file.write('Financial Analysis')\n",
    "    file.write('--------------------------')  \n",
    "    file.write(f'Total Months: {len(total_months)}')\n",
    "    file.write(f'Total: ${sum(net_total)}')\n",
    "    file.write(f'Average Change: {round(average_change,2)}')\n",
    "    file.write(f'Greatest Increase in Profits: {increase_month} (${(str(change_increase))})')\n",
    "    file.write(f'Greatest Increase in Profits: {decrease_month} (${(str(change_decrease))})')"
   ]
  },
  {
   "cell_type": "code",
   "execution_count": null,
   "id": "65dceac3-ce17-47a3-952e-32be8e99592d",
   "metadata": {},
   "outputs": [],
   "source": []
  }
 ],
 "metadata": {
  "kernelspec": {
   "display_name": "Python 3 (ipykernel)",
   "language": "python",
   "name": "python3"
  },
  "language_info": {
   "codemirror_mode": {
    "name": "ipython",
    "version": 3
   },
   "file_extension": ".py",
   "mimetype": "text/x-python",
   "name": "python",
   "nbconvert_exporter": "python",
   "pygments_lexer": "ipython3",
   "version": "3.9.7"
  }
 },
 "nbformat": 4,
 "nbformat_minor": 5
}
